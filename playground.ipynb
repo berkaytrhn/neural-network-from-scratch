{
 "cells": [
  {
   "attachments": {},
   "cell_type": "markdown",
   "metadata": {},
   "source": [
    "## Dynamic Derivation With JAX"
   ]
  },
  {
   "cell_type": "code",
   "execution_count": 2,
   "metadata": {},
   "outputs": [
    {
     "name": "stdout",
     "output_type": "stream",
     "text": [
      "0.4.31\n"
     ]
    }
   ],
   "source": [
    "import jax\n",
    "import jax.numpy as jnp\n",
    "\n",
    "print(jax.__version__)"
   ]
  },
  {
   "cell_type": "code",
   "execution_count": 3,
   "metadata": {},
   "outputs": [],
   "source": [
    "def terminate():\n",
    "    import sys\n",
    "    sys.exit(0)"
   ]
  },
  {
   "cell_type": "code",
   "execution_count": 15,
   "metadata": {},
   "outputs": [
    {
     "name": "stdout",
     "output_type": "stream",
     "text": [
      "<class 'jaxlib.xla_extension.ArrayImpl'>\n"
     ]
    },
    {
     "data": {
      "text/plain": [
       "[Array(1.3694694, dtype=float32),\n",
       " Array(-0.19947024, dtype=float32),\n",
       " Array(-2.2982783, dtype=float32),\n",
       " Array(0.44459623, dtype=float32),\n",
       " Array(0.08887016, dtype=float32)]"
      ]
     },
     "execution_count": 15,
     "metadata": {},
     "output_type": "execute_result"
    }
   ],
   "source": [
    "def generate_random_number(key):\n",
    "    key, subkey = jax.random.split(key)\n",
    "    return jax.random.normal(subkey), key\n",
    "\n",
    "\n",
    "\n",
    "key = jax.random.PRNGKey(42)\n",
    "print(type(key))\n",
    "\n",
    "numbers = list()\n",
    "for _ in range(5):\n",
    "    number, key = generate_random_number(key)\n",
    "    numbers.append(number)\n",
    "\n",
    "numbers"
   ]
  },
  {
   "cell_type": "code",
   "execution_count": 2,
   "metadata": {},
   "outputs": [],
   "source": [
    "def softmax(x):\n",
    "    exps = jnp.exp(x - jnp.max(x, keepdims=True)) \n",
    "    \n",
    "    # max along axis=1(check among columns, horizontal direction) and shape[0] same with inputs\n",
    "    return exps / jnp.sum(exps, axis=1, keepdims=True)\n",
    "\n",
    "def sigmoid(x):\n",
    "    exps = jnp.exp(x - jnp.max(x, keepdims=True)) \n",
    "    return 1 / (1 + exps)\n",
    "\n",
    "def relu(x):\n",
    "    return jnp.maximum(0, x)\n",
    "\n",
    "# not used\n",
    "def binary_cross_entropy(y_true, y_pred):\n",
    "    # Clip y_pred to avoid log(0) infinity errors\n",
    "    y_pred = jnp.clip(y_pred, 1e-7, 1 - 1e-7)\n",
    "    bce = - (y_true * jnp.log(y_pred) + (1 - y_true) * jnp.log(1 - y_pred))\n",
    "    return jnp.mean(bce)\n",
    "\n",
    "def categorical_cross_entropy(y_true_one_hot, preds_prob):\n",
    "    preds_prob = jnp.clip(preds_prob, 1e-7, 1 - 1e-7)\n",
    "    loss = -jnp.sum(y_true_one_hot * jnp.log(preds_prob), axis=1)\n",
    "    return jnp.mean(loss)\n",
    "\n",
    "def layer_pass(X, W, b, activation):\n",
    "    z = jnp.dot(X, W) + b\n",
    "    a = activation(z)\n",
    "    return a\n",
    "\n",
    "def forward_prop(X, W1, W2, b1, b2): # len(W)=2 \n",
    "    a1 = layer_pass(X, W1, b1, relu)\n",
    "    y_pred = layer_pass(a1, W2, b2, softmax)\n",
    "    return y_pred\n",
    "\n",
    "def mean_squared_error(y_true, y_pred):\n",
    "    return jnp.mean((y_true - y_pred) ** 2)\n",
    "\n",
    "def compute_loss(params, X, y_true):\n",
    "    W1, W2, b1, b2 = params\n",
    "    y_pred = forward_prop(X, W1, W2, b1, b2)\n",
    "\n",
    "    y_true_one_hot = jax.nn.one_hot(y_true.flatten(), num_classes=3)\n",
    "    # print(y_true_one_hot.shape)\n",
    "    loss = categorical_cross_entropy(y_true_one_hot, y_pred)\n",
    "    # print(y_pred.shape)\n",
    "    # print(y_pred[:5])\n",
    "    # print(sum(y_pred[0]))\n",
    "    # print(y_true_one_hot[:5])\n",
    "    # print(loss)\n",
    "    return loss"
   ]
  },
  {
   "attachments": {},
   "cell_type": "markdown",
   "metadata": {},
   "source": [
    "### Train Perceptron With JAX"
   ]
  },
  {
   "cell_type": "code",
   "execution_count": 3,
   "metadata": {},
   "outputs": [],
   "source": [
    "def xavier_init(shape, key):\n",
    "    in_dim, out_dim = shape\n",
    "    scale = jnp.sqrt(2.0 / (in_dim + out_dim))\n",
    "    return scale * jax.random.normal(key, shape)\n"
   ]
  },
  {
   "cell_type": "code",
   "execution_count": 4,
   "metadata": {},
   "outputs": [],
   "source": [
    "def update_grads(X, y_true, params: dict, grads: dict): # two layer\n",
    "\n",
    "    # Compute gradients for all parameters simultaneously\n",
    "    grads_new = jax.grad(compute_loss)(tuple(params.values()), X, y_true)\n",
    "    grads.update({\n",
    "        \"dW1\": grads_new[0],\n",
    "        \"dW2\": grads_new[1],\n",
    "        \"db1\": grads_new[2],\n",
    "        \"db2\": grads_new[3]\n",
    "    })"
   ]
  },
  {
   "cell_type": "code",
   "execution_count": 66,
   "metadata": {},
   "outputs": [],
   "source": [
    "def sgd_optimizer(params: dict, grads: dict, learning_rate=0.01):\n",
    "    for key in params.keys():\n",
    "        # print(key)\n",
    "        # print(params.get(key), grads.get(key))\n",
    "        params[key] = params[key] - (learning_rate * grads.get(f\"d{key}\"))\n",
    "\n",
    "def momentum_optimizer(params, grads, velocity, lr=0.01, momentum=0.9):\n",
    "    # print(velocity)\n",
    "    velocity = {v_key : ((momentum * v) + (lr * g)) for (v_key, v), (g_key, g) in zip(velocity.items(), grads.items())}\n",
    "    # print(\"after\")\n",
    "    # print(velocity)\n",
    "    # print(grads)\n",
    "    # print(velocity)\n",
    "    # print(params)\n",
    "    # print(\"params_new\")\n",
    "    params_new = {p_key: (p - v) for (p_key, p), (v_key, v) in zip(params.items(), velocity.items())}\n",
    "    # print(params_new)\n",
    "    params.update(params_new)\n",
    "    return velocity"
   ]
  },
  {
   "cell_type": "code",
   "execution_count": 70,
   "metadata": {},
   "outputs": [
    {
     "name": "stdout",
     "output_type": "stream",
     "text": [
      "(150, 4)\n",
      "(4, 5)\n",
      "(5, 3)\n",
      "(1, 5)\n",
      "(1, 3)\n",
      "(150, 1)\n"
     ]
    }
   ],
   "source": [
    "from sklearn.datasets import load_iris\n",
    "import numpy as np\n",
    "\n",
    "# Load the Iris dataset\n",
    "iris = load_iris()\n",
    "\n",
    "# Convert to NumPy arrays\n",
    "X = iris.data\n",
    "y_true = iris.target.reshape(150,1)\n",
    "\n",
    "key = jax.random.PRNGKey(0)\n",
    "key2 = jax.random.PRNGKey(1)\n",
    "key3 = jax.random.PRNGKey(2)\n",
    "key4 = jax.random.PRNGKey(3)\n",
    "W1 = xavier_init((4,5), key) # 4 feature, 5 neurons\n",
    "W2 = xavier_init((5,3), key2) # 5 feature, 3 neurons\n",
    "b1 = xavier_init((1,5), key3) # single number for all neurons\n",
    "b2 = xavier_init((1,3), key4) # single number for all neurons\n",
    "\n",
    "print(X.shape)\n",
    "print(W1.shape)\n",
    "print(W2.shape)\n",
    "print(b1.shape)\n",
    "print(b2.shape)\n",
    "print(y_true.shape)"
   ]
  },
  {
   "cell_type": "code",
   "execution_count": 76,
   "metadata": {},
   "outputs": [
    {
     "name": "stdout",
     "output_type": "stream",
     "text": [
      "Epoch 0: Loss = 7.8339738845825195\n",
      "Epoch 10: Loss = 1.5221583843231201\n",
      "Epoch 20: Loss = 0.9218798875808716\n",
      "Epoch 30: Loss = 0.8521625995635986\n",
      "Epoch 40: Loss = 0.8207283020019531\n",
      "Epoch 50: Loss = 0.7917216420173645\n",
      "Epoch 60: Loss = 0.7636833786964417\n",
      "Epoch 70: Loss = 0.736781895160675\n",
      "Epoch 80: Loss = 0.7112037539482117\n",
      "Epoch 90: Loss = 0.6871157884597778\n",
      "Epoch 100: Loss = 0.6645432114601135\n",
      "Epoch 110: Loss = 0.6434626579284668\n",
      "Epoch 120: Loss = 0.6236882209777832\n",
      "Epoch 130: Loss = 0.6051700711250305\n",
      "Epoch 140: Loss = 0.5877184271812439\n",
      "Epoch 150: Loss = 0.5712056756019592\n",
      "Epoch 160: Loss = 0.5558803677558899\n",
      "Epoch 170: Loss = 0.5416065454483032\n",
      "Epoch 180: Loss = 0.528174877166748\n",
      "Epoch 190: Loss = 0.5157079100608826\n",
      "Epoch 200: Loss = 0.5040467381477356\n",
      "Epoch 210: Loss = 0.4930591881275177\n",
      "Epoch 220: Loss = 0.48269084095954895\n",
      "Epoch 230: Loss = 0.4728342890739441\n",
      "Epoch 240: Loss = 0.46349066495895386\n",
      "Epoch 250: Loss = 0.4545932114124298\n",
      "Epoch 260: Loss = 0.4460965096950531\n",
      "Epoch 270: Loss = 0.4379572570323944\n",
      "Epoch 280: Loss = 0.43013796210289\n",
      "Epoch 290: Loss = 0.4226139485836029\n",
      "Epoch 300: Loss = 0.4153600037097931\n",
      "Epoch 310: Loss = 0.4083525538444519\n",
      "Epoch 320: Loss = 0.40156811475753784\n",
      "Epoch 330: Loss = 0.3949868083000183\n",
      "Epoch 340: Loss = 0.38860592246055603\n",
      "Epoch 350: Loss = 0.382406085729599\n",
      "Epoch 360: Loss = 0.3763735592365265\n",
      "Epoch 370: Loss = 0.3704974353313446\n",
      "Epoch 380: Loss = 0.3647686839103699\n",
      "Epoch 390: Loss = 0.35918110609054565\n",
      "Epoch 400: Loss = 0.3537420928478241\n",
      "Epoch 410: Loss = 0.34843435883522034\n",
      "Epoch 420: Loss = 0.34325215220451355\n",
      "Epoch 430: Loss = 0.3381969630718231\n",
      "Epoch 440: Loss = 0.3332616090774536\n",
      "Epoch 450: Loss = 0.32844123244285583\n",
      "Epoch 460: Loss = 0.323731929063797\n",
      "Epoch 470: Loss = 0.31913068890571594\n",
      "Epoch 480: Loss = 0.3146347105503082\n",
      "Epoch 490: Loss = 0.310241162776947\n",
      "Final loss for Basic Stochastic Gradient Descent 0.3063722848892212\n"
     ]
    }
   ],
   "source": [
    "EPOCHS= 500\n",
    "learning_rate = 0.01\n",
    "losses = []\n",
    "\n",
    "velocity = {\n",
    "    \"VW1\": jnp.zeros_like(W1),\n",
    "    \"VW2\": jnp.zeros_like(W2),\n",
    "    \"Vb1\": jnp.zeros_like(b1),\n",
    "    \"Vb2\": jnp.zeros_like(b2)\n",
    "}\n",
    "\n",
    "params = {\n",
    "    \"W1\": W1,\n",
    "    \"W2\": W2,\n",
    "    \"b1\": b1,\n",
    "    \"b2\": b2\n",
    "}\n",
    "\n",
    "grads = {\n",
    "    \"dW1\": None,\n",
    "    \"dW2\": None,\n",
    "    \"db1\": None,\n",
    "    \"db2\": None\n",
    "}\n",
    "    \n",
    "\n",
    "for i in range(EPOCHS):\n",
    "    loss = compute_loss(tuple(params.values()), X, y_true)\n",
    "    losses.append(loss)\n",
    "        \n",
    "    if i % 10 == 0:\n",
    "        print(f\"Epoch {i}: Loss = {loss}\")\n",
    "\n",
    "    # terminate()\n",
    "\n",
    "    # print(grads)\n",
    "    update_grads(X, y_true, params, grads)\n",
    "    # print(grads)\n",
    "    # Unpack the gradients\n",
    "    # print(\"******************************\")\n",
    "    # print(params)\n",
    "    sgd_optimizer(params, grads, learning_rate)\n",
    "\n",
    "    # print(params)\n",
    "    # velocity = momentum_optimizer(params, grads, velocity, learning_rate, momentum=0.9)\n",
    "    # print(\"after\")\n",
    "    # print(params)\n",
    "    # terminate()\n",
    "\n",
    "    # print(params)\n",
    "    \n",
    "    \n",
    "    # dW1, dW2, db1, db2 = grads\n",
    "    \n",
    "\n",
    "\n",
    "    # W1 -= learning_rate * dW1\n",
    "    # b1 -= learning_rate * db1\n",
    "    # W2 -= learning_rate * dW2\n",
    "    # b2 -= learning_rate * db2\n",
    "\n",
    "print(f\"Final loss for Basic Stochastic Gradient Descent {loss}\")"
   ]
  },
  {
   "cell_type": "code",
   "execution_count": 77,
   "metadata": {},
   "outputs": [
    {
     "name": "stdout",
     "output_type": "stream",
     "text": [
      "Epoch 0: Loss = 7.8339738845825195\n",
      "Epoch 10: Loss = 1.5230131149291992\n",
      "Epoch 20: Loss = 1.1088820695877075\n",
      "Epoch 30: Loss = 1.0809684991836548\n",
      "Epoch 40: Loss = 0.9332161545753479\n",
      "Epoch 50: Loss = 0.8371097445487976\n",
      "Epoch 60: Loss = 0.7539142966270447\n",
      "Epoch 70: Loss = 0.6944913268089294\n",
      "Epoch 80: Loss = 0.6479361057281494\n",
      "Epoch 90: Loss = 0.6111301183700562\n",
      "Epoch 100: Loss = 0.5815879702568054\n",
      "Epoch 110: Loss = 0.5573979020118713\n",
      "Epoch 120: Loss = 0.5370681881904602\n",
      "Epoch 130: Loss = 0.5195696949958801\n",
      "Epoch 140: Loss = 0.5041471719741821\n",
      "Epoch 150: Loss = 0.4904071092605591\n",
      "Epoch 160: Loss = 0.47799161076545715\n",
      "Epoch 170: Loss = 0.46674495935440063\n",
      "Epoch 180: Loss = 0.4564361572265625\n",
      "Epoch 190: Loss = 0.4467473328113556\n",
      "Epoch 200: Loss = 0.4374750256538391\n",
      "Epoch 210: Loss = 0.4285256564617157\n",
      "Epoch 220: Loss = 0.4198397099971771\n",
      "Epoch 230: Loss = 0.41136831045150757\n",
      "Epoch 240: Loss = 0.40307721495628357\n",
      "Epoch 250: Loss = 0.3949459493160248\n",
      "Epoch 260: Loss = 0.38696396350860596\n",
      "Epoch 270: Loss = 0.3791273534297943\n",
      "Epoch 280: Loss = 0.37143754959106445\n",
      "Epoch 290: Loss = 0.363899290561676\n",
      "Epoch 300: Loss = 0.3565194308757782\n",
      "Epoch 310: Loss = 0.34930604696273804\n",
      "Epoch 320: Loss = 0.3422674536705017\n",
      "Epoch 330: Loss = 0.33541154861450195\n",
      "Epoch 340: Loss = 0.3287450969219208\n",
      "Epoch 350: Loss = 0.3222736120223999\n",
      "Epoch 360: Loss = 0.31600117683410645\n",
      "Epoch 370: Loss = 0.30993005633354187\n",
      "Epoch 380: Loss = 0.30406108498573303\n",
      "Epoch 390: Loss = 0.2983936369419098\n",
      "Epoch 400: Loss = 0.29292571544647217\n",
      "Epoch 410: Loss = 0.28765401244163513\n",
      "Epoch 420: Loss = 0.28257444500923157\n",
      "Epoch 430: Loss = 0.2776820957660675\n",
      "Epoch 440: Loss = 0.2729712128639221\n",
      "Epoch 450: Loss = 0.2684358060359955\n",
      "Epoch 460: Loss = 0.26406943798065186\n",
      "Epoch 470: Loss = 0.25986558198928833\n",
      "Epoch 480: Loss = 0.25581756234169006\n",
      "Epoch 490: Loss = 0.2519187033176422\n",
      "Final loss for Momentum Powered Stochastic Gradient Descent 0.248531773686409\n"
     ]
    },
    {
     "ename": "",
     "evalue": "",
     "output_type": "error",
     "traceback": [
      "\u001b[1;31mThe Kernel crashed while executing code in the the current cell or a previous cell. Please review the code in the cell(s) to identify a possible cause of the failure. Click <a href='https://aka.ms/vscodeJupyterKernelCrash'>here</a> for more info. View Jupyter <a href='command:jupyter.viewOutput'>log</a> for further details."
     ]
    }
   ],
   "source": [
    "EPOCHS= 500\n",
    "learning_rate = 0.01\n",
    "losses = []\n",
    "\n",
    "velocity = {\n",
    "    \"VW1\": jnp.zeros_like(W1),\n",
    "    \"VW2\": jnp.zeros_like(W2),\n",
    "    \"Vb1\": jnp.zeros_like(b1),\n",
    "    \"Vb2\": jnp.zeros_like(b2)\n",
    "}\n",
    "\n",
    "params = {\n",
    "    \"W1\": W1,\n",
    "    \"W2\": W2,\n",
    "    \"b1\": b1,\n",
    "    \"b2\": b2\n",
    "}\n",
    "\n",
    "grads = {\n",
    "    \"dW1\": None,\n",
    "    \"dW2\": None,\n",
    "    \"db1\": None,\n",
    "    \"db2\": None\n",
    "}\n",
    "    \n",
    "\n",
    "for i in range(EPOCHS):\n",
    "    loss = compute_loss(tuple(params.values()), X, y_true)\n",
    "    losses.append(loss)\n",
    "        \n",
    "    if i % 10 == 0:\n",
    "        print(f\"Epoch {i}: Loss = {loss}\")\n",
    "\n",
    "    # terminate()\n",
    "\n",
    "    # print(grads)\n",
    "    update_grads(X, y_true, params, grads)\n",
    "    # print(grads)\n",
    "    # Unpack the gradients\n",
    "    # print(\"******************************\")\n",
    "    # print(params)\n",
    "    # sgd_optimizer(params, grads, learning_rate)\n",
    "\n",
    "    # print(params)\n",
    "    velocity = momentum_optimizer(params, grads, velocity, learning_rate, momentum=0.9)\n",
    "    # print(\"after\")\n",
    "    # print(params)\n",
    "    # terminate()\n",
    "\n",
    "    # print(params)\n",
    "    \n",
    "    \n",
    "    # dW1, dW2, db1, db2 = grads\n",
    "    \n",
    "\n",
    "\n",
    "    # W1 -= learning_rate * dW1\n",
    "    # b1 -= learning_rate * db1\n",
    "    # W2 -= learning_rate * dW2\n",
    "    # b2 -= learning_rate * db2a\n",
    "print(f\"Final loss for Momentum Powered Stochastic Gradient Descent {loss}\")\n",
    "    "
   ]
  },
  {
   "cell_type": "code",
   "execution_count": 24,
   "metadata": {},
   "outputs": [
    {
     "data": {
      "image/png": "[encoded data removed]",
      "text/plain": [
       "<Figure size 640x480 with 1 Axes>"
      ]
     },
     "metadata": {},
     "output_type": "display_data"
    }
   ],
   "source": [
    "import matplotlib.pyplot as plt\n",
    "def draw_loss(losses):\n",
    "    plt.plot(range(EPOCHS), losses, label='Loss')\n",
    "    plt.xlabel('Epoch')\n",
    "    plt.ylabel('Loss')\n",
    "    plt.title('Loss Curve')\n",
    "    plt.legend()\n",
    "    plt.show()\n",
    "\n",
    "draw_loss(losses)"
   ]
  },
  {
   "attachments": {},
   "cell_type": "markdown",
   "metadata": {},
   "source": [
    "# TODO ->  precision, recall impl. "
   ]
  },
  {
   "cell_type": "code",
   "execution_count": 25,
   "metadata": {},
   "outputs": [],
   "source": [
    "def accuracy(y_pred, y_true):\n",
    "    preds = jnp.argmax(y_pred, axis=1, keepdims=True)\n",
    "    return jnp.mean(preds == y_true)"
   ]
  },
  {
   "cell_type": "code",
   "execution_count": 28,
   "metadata": {},
   "outputs": [
    {
     "data": {
      "text/plain": [
       "Array(0.9666667, dtype=float32)"
      ]
     },
     "execution_count": 28,
     "metadata": {},
     "output_type": "execute_result"
    }
   ],
   "source": [
    "\n",
    "y_pred = forward_prop(X, *tuple(params.values()))\n",
    "\n",
    "accuracy(y_pred, y_true)"
   ]
  },
  {
   "cell_type": "code",
   "execution_count": null,
   "metadata": {},
   "outputs": [],
   "source": []
  },
  {
   "cell_type": "code",
   "execution_count": null,
   "metadata": {},
   "outputs": [],
   "source": []
  }
 ],
 "metadata": {
  "kernelspec": {
   "display_name": "venv",
   "language": "python",
   "name": "python3"
  },
  "language_info": {
   "codemirror_mode": {
    "name": "ipython",
    "version": 3
   },
   "file_extension": ".py",
   "mimetype": "text/x-python",
   "name": "python",
   "nbconvert_exporter": "python",
   "pygments_lexer": "ipython3",
   "version": "3.11.0 (main, Oct 24 2022, 18:26:48) [MSC v.1933 64 bit (AMD64)]"
  },
  "orig_nbformat": 4,
  "vscode": {
   "interpreter": {
    "hash": "2b16064ba6d6db28e06c6cb9a3742ea91fd65462ba1ef8d5a53b33ac427fd7c6"
   }
  }
 },
 "nbformat": 4,
 "nbformat_minor": 2
}
